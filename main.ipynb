{
 "metadata": {
  "language_info": {
   "codemirror_mode": {
    "name": "ipython",
    "version": 3
   },
   "file_extension": ".py",
   "mimetype": "text/x-python",
   "name": "python",
   "nbconvert_exporter": "python",
   "pygments_lexer": "ipython3",
   "version": "3.8.3-final"
  },
  "orig_nbformat": 2,
  "kernelspec": {
   "name": "python38364bitkaggleconda23a741be085945aa888cbd21aa05de81",
   "display_name": "Python 3.8.3 64-bit ('kaggle': conda)"
  }
 },
 "nbformat": 4,
 "nbformat_minor": 2,
 "cells": [
  {
   "cell_type": "code",
   "execution_count": 1,
   "metadata": {},
   "outputs": [],
   "source": [
    "import numpy as np\n",
    "import pandas as pd\n",
    "import matplotlib.pyplot as plt\n",
    "%matplotlib inline\n",
    "import seaborn as sns"
   ]
  },
  {
   "cell_type": "code",
   "execution_count": 14,
   "metadata": {},
   "outputs": [],
   "source": [
    "train = pd.read_csv('data/train.csv')\n",
    "test = pd.read_csv('data/test.csv')"
   ]
  },
  {
   "cell_type": "code",
   "execution_count": 19,
   "metadata": {},
   "outputs": [],
   "source": [
    "size_train = train.shape[0]\n",
    "dataset = pd.concat((train, test)).reset_index()"
   ]
  },
  {
   "cell_type": "code",
   "execution_count": 30,
   "metadata": {
    "tags": []
   },
   "outputs": [],
   "source": [
    "def print_features_missing(df):\n",
    "    count = df.isnull().sum().to_dict()\n",
    "    dict_null = {k: v for k, v in count.items() if v > 0}\n",
    "    for k, v in dict_null.items():\n",
    "        print(k, ' ' * (20 - len(str(k))), v)\n",
    "\n",
    "def get_features_complete(df):\n",
    "    count = df.isnull().sum().to_dict()\n",
    "    return [k for k, v in count.items() if v == 0]"
   ]
  },
  {
   "cell_type": "code",
   "execution_count": 56,
   "metadata": {
    "tags": []
   },
   "outputs": [],
   "source": [
    "y = train['SalePrice'].transform(np.log)\n",
    "features = get_features_complete(dataset)\n",
    "dataset = dataset[features]"
   ]
  },
  {
   "cell_type": "code",
   "execution_count": 59,
   "metadata": {
    "tags": []
   },
   "outputs": [],
   "source": [
    "categorical = dataset.describe(include='O').columns.tolist()\n",
    "dataset = pd.get_dummies(dataset, categorical)"
   ]
  },
  {
   "cell_type": "code",
   "execution_count": 61,
   "metadata": {},
   "outputs": [],
   "source": [
    "features_drop = ['index', 'Id']\n",
    "X = dataset.iloc[:size_train].drop(features_drop, axis=1)\n",
    "X_test = dataset.iloc[size_train:].drop(features_drop, axis=1)"
   ]
  },
  {
   "cell_type": "code",
   "execution_count": 63,
   "metadata": {},
   "outputs": [],
   "source": [
    "from sklearn.ensemble import GradientBoostingRegressor\n",
    "\n",
    "model = GradientBoostingRegressor(n_estimators=100, max_depth=5)\n",
    "model.fit(X, y)\n",
    "y_pred = np.exp(model.predict(X_test))"
   ]
  },
  {
   "cell_type": "code",
   "execution_count": 69,
   "metadata": {},
   "outputs": [],
   "source": [
    "output = pd.DataFrame({'Id': dataset.iloc[size_train:, 1], 'SalePrice': y_pred})\n",
    "output.to_csv('data/submission_0808_gboost.csv', index=False)"
   ]
  },
  {
   "cell_type": "code",
   "execution_count": null,
   "metadata": {},
   "outputs": [],
   "source": []
  }
 ]
}